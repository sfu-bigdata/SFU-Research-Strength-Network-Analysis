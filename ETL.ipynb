{
 "cells": [
  {
   "cell_type": "code",
   "execution_count": null,
   "id": "4164b581",
   "metadata": {},
   "outputs": [],
   "source": [
    "from src.api import collect_data, conf"
   ]
  },
  {
   "cell_type": "code",
   "execution_count": null,
   "id": "fb009372",
   "metadata": {},
   "outputs": [],
   "source": [
    "# Collect the data\n",
    "from pathlib import Path\n",
    "output_path = Path.cwd().joinpath(conf.OUTPUT_RAW_DATA_DIR)\n",
    "collect_data.extract(output_path)"
   ]
  }
 ],
 "metadata": {
  "kernelspec": {
   "display_name": "Python 3",
   "language": "python",
   "name": "python3"
  },
  "language_info": {
   "codemirror_mode": {
    "name": "ipython",
    "version": 3
   },
   "file_extension": ".py",
   "mimetype": "text/x-python",
   "name": "python",
   "nbconvert_exporter": "python",
   "pygments_lexer": "ipython3",
   "version": "3.12.3"
  }
 },
 "nbformat": 4,
 "nbformat_minor": 5
}
