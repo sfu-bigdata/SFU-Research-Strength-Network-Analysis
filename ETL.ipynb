{
 "cells": [
  {
   "cell_type": "code",
   "execution_count": 90,
   "id": "4164b581",
   "metadata": {},
   "outputs": [],
   "source": [
    "from src.api import collect_data, conf"
   ]
  },
  {
   "cell_type": "code",
   "execution_count": 92,
   "id": "fb009372",
   "metadata": {},
   "outputs": [
    {
     "ename": "TypeError",
     "evalue": "extract() takes 0 positional arguments but 1 was given",
     "output_type": "error",
     "traceback": [
      "\u001b[1;31m---------------------------------------------------------------------------\u001b[0m",
      "\u001b[1;31mTypeError\u001b[0m                                 Traceback (most recent call last)",
      "Cell \u001b[1;32mIn[92], line 4\u001b[0m\n\u001b[0;32m      2\u001b[0m \u001b[38;5;28;01mfrom\u001b[39;00m \u001b[38;5;21;01mpathlib\u001b[39;00m \u001b[38;5;28;01mimport\u001b[39;00m Path\n\u001b[0;32m      3\u001b[0m output_path \u001b[38;5;241m=\u001b[39m Path\u001b[38;5;241m.\u001b[39mcwd()\u001b[38;5;241m.\u001b[39mjoinpath(conf\u001b[38;5;241m.\u001b[39mOUTPUT_RAW_DATA_DIR)\n\u001b[1;32m----> 4\u001b[0m \u001b[43mcollect_data\u001b[49m\u001b[38;5;241;43m.\u001b[39;49m\u001b[43mextract\u001b[49m\u001b[43m(\u001b[49m\u001b[43moutput_path\u001b[49m\u001b[43m)\u001b[49m\n",
      "\u001b[1;31mTypeError\u001b[0m: extract() takes 0 positional arguments but 1 was given"
     ]
    }
   ],
   "source": [
    "# Collect the data\n",
    "from pathlib import Path\n",
    "output_path = Path.cwd().joinpath(conf.OUTPUT_RAW_DATA_DIR)\n",
    "collect_data.extract(output_path)"
   ]
  }
 ],
 "metadata": {
  "kernelspec": {
   "display_name": "Python 3",
   "language": "python",
   "name": "python3"
  },
  "language_info": {
   "codemirror_mode": {
    "name": "ipython",
    "version": 3
   },
   "file_extension": ".py",
   "mimetype": "text/x-python",
   "name": "python",
   "nbconvert_exporter": "python",
   "pygments_lexer": "ipython3",
   "version": "3.12.3"
  }
 },
 "nbformat": 4,
 "nbformat_minor": 5
}
