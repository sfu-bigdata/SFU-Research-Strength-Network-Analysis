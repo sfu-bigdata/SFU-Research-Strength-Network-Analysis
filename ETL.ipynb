{
 "cells": [
  {
   "cell_type": "code",
   "execution_count": 1,
   "id": "4164b581",
   "metadata": {},
   "outputs": [],
   "source": [
    "from src.api import collect_data, conf\n",
    "from src.utils import helpers"
   ]
  },
  {
   "cell_type": "code",
   "execution_count": null,
   "id": "fb5d9387",
   "metadata": {},
   "outputs": [
    {
     "name": "stdout",
     "output_type": "stream",
     "text": [
      "Target directory does not exist.\n"
     ]
    }
   ],
   "source": [
    "# Clear directories\n",
    "\n",
    "# Clear raw data directory is data already exists there\n",
    "helpers.clear_directories(conf.OUTPUT_RAW_DATA_DIR, keepStructure=True)"
   ]
  },
  {
   "cell_type": "code",
   "execution_count": 3,
   "id": "fb009372",
   "metadata": {},
   "outputs": [
    {
     "name": "stdout",
     "output_type": "stream",
     "text": [
      "Gathering information related to journals.\n",
      "Writing data to directory: c:\\Users\\Frank\\Desktop\\projects\\coop\\project\\data\\raw\\journals\\batch-50-1.json.zst\n"
     ]
    },
    {
     "ename": "TypeError",
     "evalue": "a bytes-like object is required, not 'str'",
     "output_type": "error",
     "traceback": [
      "\u001b[1;31m---------------------------------------------------------------------------\u001b[0m",
      "\u001b[1;31mTypeError\u001b[0m                                 Traceback (most recent call last)",
      "Cell \u001b[1;32mIn[3], line 4\u001b[0m\n\u001b[0;32m      2\u001b[0m \u001b[38;5;28;01mfrom\u001b[39;00m \u001b[38;5;21;01mpathlib\u001b[39;00m \u001b[38;5;28;01mimport\u001b[39;00m Path\n\u001b[0;32m      3\u001b[0m output_path \u001b[38;5;241m=\u001b[39m Path\u001b[38;5;241m.\u001b[39mcwd()\u001b[38;5;241m.\u001b[39mjoinpath(conf\u001b[38;5;241m.\u001b[39mOUTPUT_RAW_DATA_DIR)\n\u001b[1;32m----> 4\u001b[0m \u001b[43mcollect_data\u001b[49m\u001b[38;5;241;43m.\u001b[39;49m\u001b[43mextract\u001b[49m\u001b[43m(\u001b[49m\u001b[43moutput_path\u001b[49m\u001b[43m)\u001b[49m\n",
      "File \u001b[1;32mc:\\Users\\Frank\\Desktop\\projects\\coop\\project\\src\\api\\collect_data.py:207\u001b[0m, in \u001b[0;36mextract\u001b[1;34m(output_path)\u001b[0m\n\u001b[0;32m    204\u001b[0m     issn_collection\u001b[38;5;241m.\u001b[39mappend((name, issn))\n\u001b[0;32m    206\u001b[0m     \u001b[38;5;28;01mif\u001b[39;00m (idx\u001b[38;5;241m+\u001b[39m\u001b[38;5;241m1\u001b[39m) \u001b[38;5;241m%\u001b[39m chunk_size \u001b[38;5;241m==\u001b[39m \u001b[38;5;241m0\u001b[39m:\n\u001b[1;32m--> 207\u001b[0m         \u001b[43mget_data\u001b[49m\u001b[43m(\u001b[49m\u001b[43missn_collection\u001b[49m\u001b[43m,\u001b[49m\u001b[43m \u001b[49m\u001b[38;5;28;43mstr\u001b[39;49m\u001b[43m(\u001b[49m\u001b[43midx\u001b[49m\u001b[38;5;241;43m+\u001b[39;49m\u001b[38;5;241;43m1\u001b[39;49m\u001b[43m)\u001b[49m\u001b[43m)\u001b[49m\n\u001b[0;32m    209\u001b[0m \u001b[38;5;28;01mif\u001b[39;00m issn_collection:\n\u001b[0;32m    210\u001b[0m     get_data(issn_collection, \u001b[38;5;124m'\u001b[39m\u001b[38;5;124m-final\u001b[39m\u001b[38;5;124m'\u001b[39m)\n",
      "File \u001b[1;32mc:\\Users\\Frank\\Desktop\\projects\\coop\\project\\src\\api\\collect_data.py:167\u001b[0m, in \u001b[0;36mextract.<locals>.get_data\u001b[1;34m(data_collection, suffix)\u001b[0m\n\u001b[0;32m    164\u001b[0m filter_query \u001b[38;5;241m=\u001b[39m \u001b[38;5;124m'\u001b[39m\u001b[38;5;124m|\u001b[39m\u001b[38;5;124m'\u001b[39m\u001b[38;5;241m.\u001b[39mjoin(issn_collection)\n\u001b[0;32m    165\u001b[0m \u001b[38;5;28mfilter\u001b[39m \u001b[38;5;241m=\u001b[39m \u001b[38;5;124m'\u001b[39m\u001b[38;5;132;01m%s\u001b[39;00m\u001b[38;5;124m:\u001b[39m\u001b[38;5;132;01m%s\u001b[39;00m\u001b[38;5;124m'\u001b[39m \u001b[38;5;241m%\u001b[39m (\u001b[38;5;124m'\u001b[39m\u001b[38;5;124missn\u001b[39m\u001b[38;5;124m'\u001b[39m, filter_query)\n\u001b[1;32m--> 167\u001b[0m res_set \u001b[38;5;241m=\u001b[39m \u001b[43mapi\u001b[49m\u001b[38;5;241;43m.\u001b[39;49m\u001b[43mretrieve_list\u001b[49m\u001b[43m(\u001b[49m\n\u001b[0;32m    168\u001b[0m \u001b[43m    \u001b[49m\u001b[43mAPIEndpoints\u001b[49m\u001b[38;5;241;43m.\u001b[39;49m\u001b[43mSOURCES\u001b[49m\u001b[43m,\u001b[49m\n\u001b[0;32m    169\u001b[0m \u001b[43m    \u001b[49m\u001b[43mpagination\u001b[49m\u001b[38;5;241;43m=\u001b[39;49m\u001b[38;5;28;43;01mTrue\u001b[39;49;00m\u001b[43m,\u001b[49m\n\u001b[0;32m    170\u001b[0m \u001b[43m    \u001b[49m\u001b[43mpagination_type\u001b[49m\u001b[38;5;241;43m=\u001b[39;49m\u001b[43mPaginationTypes\u001b[49m\u001b[38;5;241;43m.\u001b[39;49m\u001b[43mCURSOR\u001b[49m\u001b[43m,\u001b[49m\n\u001b[0;32m    171\u001b[0m \u001b[43m    \u001b[49m\u001b[38;5;28;43mfilter\u001b[39;49m\u001b[38;5;241;43m=\u001b[39;49m\u001b[38;5;28;43mfilter\u001b[39;49m\u001b[43m,\u001b[49m\n\u001b[0;32m    172\u001b[0m \u001b[43m    \u001b[49m\u001b[43mWriteFx\u001b[49m\u001b[38;5;241;43m=\u001b[39;49m\u001b[43mWriteFunctor\u001b[49m\u001b[43m(\u001b[49m\u001b[43moutput_path\u001b[49m\u001b[38;5;241;43m.\u001b[39;49m\u001b[43mjoinpath\u001b[49m\u001b[43m(\u001b[49m\u001b[38;5;124;43m'\u001b[39;49m\u001b[38;5;124;43mjournals\u001b[39;49m\u001b[38;5;124;43m'\u001b[39;49m\u001b[43m)\u001b[49m\u001b[43m,\u001b[49m\u001b[43m \u001b[49m\u001b[38;5;124;43m'\u001b[39;49m\u001b[38;5;124;43mbatch-\u001b[39;49m\u001b[38;5;124;43m'\u001b[39;49m\u001b[38;5;241;43m+\u001b[39;49m\u001b[43msuffix\u001b[49m\u001b[43m)\u001b[49m\n\u001b[0;32m    173\u001b[0m \u001b[43m\u001b[49m\u001b[43m)\u001b[49m\n\u001b[0;32m    175\u001b[0m \u001b[38;5;28;01mif\u001b[39;00m res_set \u001b[38;5;129;01mand\u001b[39;00m issn_collection:\n\u001b[0;32m    177\u001b[0m     \u001b[38;5;28;01mfor\u001b[39;00m res \u001b[38;5;129;01min\u001b[39;00m res_set:\n",
      "File \u001b[1;32mc:\\Users\\Frank\\Desktop\\projects\\coop\\project\\src\\api\\openalex_api.py:168\u001b[0m, in \u001b[0;36mOpenAlexApi.retrieve_list\u001b[1;34m(self, endpoint, pagination, items_per_page, pagination_type, pages_count, page, filter, search, group, sort, WriteFx, write_chunk_cutoff)\u001b[0m\n\u001b[0;32m    164\u001b[0m \u001b[38;5;250m        \u001b[39m\u001b[38;5;124;03m'''\u001b[39;00m\n\u001b[0;32m    165\u001b[0m \u001b[38;5;124;03m        Keep updating until content next_cursor is empty and results are empty\u001b[39;00m\n\u001b[0;32m    166\u001b[0m \u001b[38;5;124;03m        '''\u001b[39;00m\n\u001b[0;32m    167\u001b[0m \u001b[38;5;28;01mif\u001b[39;00m WriteFx:\n\u001b[1;32m--> 168\u001b[0m     \u001b[43mWriteFx\u001b[49m\u001b[43m(\u001b[49m\u001b[43mres\u001b[49m\u001b[43m)\u001b[49m\n\u001b[0;32m    170\u001b[0m \u001b[38;5;28;01mreturn\u001b[39;00m res\n",
      "File \u001b[1;32mc:\\Users\\Frank\\Desktop\\projects\\coop\\project\\src\\api\\collect_data.py:50\u001b[0m, in \u001b[0;36mWriteFunctor.__call__\u001b[1;34m(self, data)\u001b[0m\n\u001b[0;32m     46\u001b[0m     \u001b[38;5;28;01mwith\u001b[39;00m compressor\u001b[38;5;241m.\u001b[39mstream_writer(file, size\u001b[38;5;241m=\u001b[39m\u001b[38;5;28mlen\u001b[39m(jsonString)) \u001b[38;5;28;01mas\u001b[39;00m stream_writer:\n\u001b[0;32m     47\u001b[0m         \u001b[38;5;66;03m#writer = io.TextIOWrapper(stream_writer, encoding='utf-8')\u001b[39;00m\n\u001b[0;32m     48\u001b[0m         \u001b[38;5;66;03m#json.dump(data, writer)\u001b[39;00m\n\u001b[0;32m     49\u001b[0m         \u001b[38;5;28;01mfor\u001b[39;00m i \u001b[38;5;129;01min\u001b[39;00m \u001b[38;5;28mrange\u001b[39m(\u001b[38;5;241m0\u001b[39m, \u001b[38;5;28mlen\u001b[39m(jsonString), \u001b[38;5;28mself\u001b[39m\u001b[38;5;241m.\u001b[39mchunk_size):\n\u001b[1;32m---> 50\u001b[0m             \u001b[43mstream_writer\u001b[49m\u001b[38;5;241;43m.\u001b[39;49m\u001b[43mwrite\u001b[49m\u001b[43m(\u001b[49m\u001b[43mjsonString\u001b[49m\u001b[43m[\u001b[49m\u001b[43mi\u001b[49m\u001b[43m:\u001b[49m\u001b[43mi\u001b[49m\u001b[38;5;241;43m+\u001b[39;49m\u001b[38;5;28;43mself\u001b[39;49m\u001b[38;5;241;43m.\u001b[39;49m\u001b[43mchunk_size\u001b[49m\u001b[43m]\u001b[49m\u001b[43m)\u001b[49m\n\u001b[0;32m     52\u001b[0m     \u001b[38;5;66;03m#file.write(compressed_data)\u001b[39;00m\n\u001b[0;32m     53\u001b[0m \u001b[38;5;28mself\u001b[39m\u001b[38;5;241m.\u001b[39msuffix\u001b[38;5;241m+\u001b[39m\u001b[38;5;241m=\u001b[39m\u001b[38;5;241m1\u001b[39m\n",
      "\u001b[1;31mTypeError\u001b[0m: a bytes-like object is required, not 'str'"
     ]
    }
   ],
   "source": [
    "# Collect the data\n",
    "from pathlib import Path\n",
    "output_path = Path.cwd().joinpath(conf.OUTPUT_RAW_DATA_DIR)\n",
    "collect_data.extract(output_path)"
   ]
  }
 ],
 "metadata": {
  "kernelspec": {
   "display_name": "Python 3",
   "language": "python",
   "name": "python3"
  },
  "language_info": {
   "codemirror_mode": {
    "name": "ipython",
    "version": 3
   },
   "file_extension": ".py",
   "mimetype": "text/x-python",
   "name": "python",
   "nbconvert_exporter": "python",
   "pygments_lexer": "ipython3",
   "version": "3.12.3"
  }
 },
 "nbformat": 4,
 "nbformat_minor": 5
}
