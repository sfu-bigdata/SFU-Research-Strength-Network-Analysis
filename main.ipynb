{
 "cells": [
  {
   "cell_type": "code",
   "execution_count": null,
   "id": "4164b581",
   "metadata": {},
   "outputs": [],
   "source": [
    "from src.api import collect_data, conf\n",
    "import src.utils.helpers as helpers\n",
    "from src.processing.raw import preprocess"
   ]
  },
  {
   "cell_type": "code",
   "execution_count": null,
   "id": "fb5d9387",
   "metadata": {},
   "outputs": [],
   "source": [
    "# Clear directories\n",
    "\n",
    "# Clear raw data directory is data already exists there\n",
    "#helpers.clear_directories(conf.OUTPUT_RAW_DATA_DIR, keepStructure=True)"
   ]
  },
  {
   "cell_type": "code",
   "execution_count": null,
   "id": "fb009372",
   "metadata": {},
   "outputs": [],
   "source": [
    "# Collect the data\n",
    "from pathlib import Path\n",
    "output_path = Path.cwd().joinpath(conf.OUTPUT_RAW_DATA_DIR)\n",
    "collect_data.extract(output_path)"
   ]
  },
  {
   "cell_type": "code",
   "execution_count": null,
   "id": "78fb2ab7",
   "metadata": {},
   "outputs": [],
   "source": [
    "preprocess(conf.OUTPUT_RAW_DATA_DIR, conf.PARQUET_OUTPUT_DIR)"
   ]
  },
  {
   "cell_type": "code",
   "execution_count": null,
   "id": "d6f8c7af",
   "metadata": {},
   "outputs": [],
   "source": [
    "# move output to neo4j imports directory\n",
    "from src.graphdb import setup\n",
    "from config import DATABASE_OUTPUT_DIR\n",
    "\n",
    "setup.db_setup(\n",
    "    input_directory=conf.PARQUET_OUTPUT_DIR,\n",
    "    output_directory=DATABASE_OUTPUT_DIR,\n",
    "    clear_previous_contents=True\n",
    ")"
   ]
  },
  {
   "cell_type": "code",
   "execution_count": null,
   "id": "be8139fe",
   "metadata": {},
   "outputs": [],
   "source": [
    "from src.graphdb import setup\n",
    "from src.graphdb.connect import N4J_Connection, ConnectionType\n",
    "from src.graphdb.conf import DatabaseConfig\n",
    "from os import environ\n",
    "\n",
    "connection = N4J_Connection(\n",
    "    targetAddress=DatabaseConfig.targetAddress,\n",
    "    port=DatabaseConfig.boltClient,\n",
    "    connectionType=ConnectionType.bolt_secure,\n",
    "    authentication=True,\n",
    "    username=environ.get('CONNECTION_USER', 'neo4j'),\n",
    "    password=environ.get('CONNECTION_PASSWORD', '')\n",
    ")\n",
    "\n",
    "setup.setup_full(connection=connection, clear_previous_contents=False, remote=True)"
   ]
  }
 ],
 "metadata": {
  "kernelspec": {
   "display_name": "Python 3",
   "language": "python",
   "name": "python3"
  },
  "language_info": {
   "codemirror_mode": {
    "name": "ipython",
    "version": 3
   },
   "file_extension": ".py",
   "mimetype": "text/x-python",
   "name": "python",
   "nbconvert_exporter": "python",
   "pygments_lexer": "ipython3",
   "version": "3.12.3"
  }
 },
 "nbformat": 4,
 "nbformat_minor": 5
}
